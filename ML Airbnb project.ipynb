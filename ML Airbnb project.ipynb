{
 "cells": [
  {
   "cell_type": "code",
   "execution_count": 8,
   "metadata": {},
   "outputs": [
    {
     "name": "stdout",
     "output_type": "stream",
     "text": [
      "id                                                                            7087327\n",
      "listing_url                                      https://www.airbnb.com/rooms/7087327\n",
      "scrape_id                                                              20151002231825\n",
      "last_scraped                                                               2015-10-03\n",
      "name                                               Historic DC Condo-Walk to Capitol!\n",
      "summary                             Professional pictures coming soon! Welcome to ...\n",
      "space                                                                             NaN\n",
      "description                         Professional pictures coming soon! Welcome to ...\n",
      "experiences_offered                                                              none\n",
      "neighborhood_overview                                                             NaN\n",
      "notes                                                                             NaN\n",
      "transit                                                                           NaN\n",
      "thumbnail_url                       https://a2.muscache.com/ac/pictures/105507202/...\n",
      "medium_url                          https://a2.muscache.com/im/pictures/105507202/...\n",
      "picture_url                         https://a2.muscache.com/ac/pictures/105507202/...\n",
      "xl_picture_url                      https://a2.muscache.com/ac/pictures/105507202/...\n",
      "host_id                                                                      15830506\n",
      "host_url                                   https://www.airbnb.com/users/show/15830506\n",
      "host_name                                                                 Lize & Greg\n",
      "host_since                                                                 2014-05-21\n",
      "host_location                         Washington, District of Columbia, United States\n",
      "host_about                          We are two fun, friendly entrepreneurs living ...\n",
      "host_response_time                                                 within a few hours\n",
      "host_response_rate                                                                92%\n",
      "host_acceptance_rate                                                              91%\n",
      "host_is_superhost                                                                   f\n",
      "host_thumbnail_url                  https://a1.muscache.com/ac/users/15830506/prof...\n",
      "host_picture_url                    https://a1.muscache.com/ac/users/15830506/prof...\n",
      "host_neighbourhood                                                     Truxton Circle\n",
      "host_listings_count                                                                26\n",
      "                                                          ...                        \n",
      "guests_included                                                                     1\n",
      "extra_people                                                                    $0.00\n",
      "minimum_nights                                                                      1\n",
      "maximum_nights                                                                   1125\n",
      "calendar_updated                                                                today\n",
      "has_availability                                                                    t\n",
      "availability_30                                                                     0\n",
      "availability_60                                                                     0\n",
      "availability_90                                                                     8\n",
      "availability_365                                                                  283\n",
      "calendar_last_scraped                                                      2015-10-02\n",
      "number_of_reviews                                                                   0\n",
      "first_review                                                                      NaN\n",
      "last_review                                                                       NaN\n",
      "review_scores_rating                                                              NaN\n",
      "review_scores_accuracy                                                            NaN\n",
      "review_scores_cleanliness                                                         NaN\n",
      "review_scores_checkin                                                             NaN\n",
      "review_scores_communication                                                       NaN\n",
      "review_scores_location                                                            NaN\n",
      "review_scores_value                                                               NaN\n",
      "requires_license                                                                    f\n",
      "license                                                                           NaN\n",
      "jurisdiction_names                                   DISTRICT OF COLUMBIA, WASHINGTON\n",
      "instant_bookable                                                                    f\n",
      "cancellation_policy                                                          flexible\n",
      "require_guest_profile_picture                                                       f\n",
      "require_guest_phone_verification                                                    f\n",
      "calculated_host_listings_count                                                     18\n",
      "reviews_per_month                                                                 NaN\n",
      "Name: 0, Length: 92, dtype: object\n"
     ]
    }
   ],
   "source": [
    "import pandas as pd\n",
    "dc_listings = pd.read_csv('/Users/eleonoreserge/Documents/listings.csv')\n",
    "print(dc_listings.iloc[0])"
   ]
  },
  {
   "cell_type": "markdown",
   "metadata": {},
   "source": [
    "# Here's the strategy we wanted to use:\n",
    "\n",
    "Find a few similar listings.\n",
    "Calculate the average nightly rental price of these listings.\n",
    "Set the average price as the price for our listing.\n",
    "The k-nearest neighbors algorithm is similar to this strategy.\n",
    "\n",
    "## Euclidean distance \n",
    "\n",
    "When trying to predict a continuous value, like price, the main similarity metric that's used is Euclidean distance. Here's the general formula for Euclidean distance:\n",
    "\n",
    "d = \\sqrt{(q_1-p_1)^2 + (q_2-p_2)^2 +...+ (q_n-p_n)^2}\n",
    "\n",
    "where q_1 to q_n represent the feature values for one observation and p_1 to p_n represent the feature values for the other observation. \n",
    "\n",
    "Here, to keep things simple, we'll use just one feature. Since we're only using one feature, this is known as the univariate case. Here's what the formula looks like for the univariate case:\n",
    "\n",
    "d = \\sqrt{(q_1 - p_1)^2}\n",
    "\n",
    "The living space that we want to rent can accommodate 3 people. Let's first calculate the distance, using just the accommodates feature, between the first living space in the dataset and our own."
   ]
  },
  {
   "cell_type": "code",
   "execution_count": 9,
   "metadata": {},
   "outputs": [
    {
     "name": "stdout",
     "output_type": "stream",
     "text": [
      "1\n"
     ]
    }
   ],
   "source": [
    "## Euclidean distance ##\n",
    "\n",
    "import numpy as np\n",
    "our_acc_value = 3\n",
    "first_living_space_value = dc_listings.iloc[0]['accommodates']\n",
    "first_distance = np.abs(first_living_space_value - our_acc_value)\n",
    "print(first_distance)"
   ]
  },
  {
   "cell_type": "markdown",
   "metadata": {},
   "source": [
    "The Euclidean distance between the first row in the dc_listings Dataframe and our own living space is 1. How do we know if this is high or low? If you look at the Euclidean distance equation itself, the lowest value you can achieve is 0. \n",
    "The closer to 0 the distance the more similar the living spaces are."
   ]
  },
  {
   "cell_type": "markdown",
   "metadata": {},
   "source": [
    "# Calculate distance for all observations"
   ]
  },
  {
   "cell_type": "code",
   "execution_count": 10,
   "metadata": {},
   "outputs": [
    {
     "name": "stdout",
     "output_type": "stream",
     "text": [
      "1     2294\n",
      "2      503\n",
      "0      461\n",
      "3      279\n",
      "5       73\n",
      "4       35\n",
      "7       22\n",
      "6       17\n",
      "9       12\n",
      "13       8\n",
      "8        7\n",
      "12       6\n",
      "11       4\n",
      "10       2\n",
      "Name: distance, dtype: int64\n"
     ]
    }
   ],
   "source": [
    "new_listing = 3\n",
    "dc_listings['distance'] = dc_listings['accommodates'].apply(lambda x: np.abs(x - new_listing))\n",
    "print(dc_listings['distance'].value_counts())"
   ]
  },
  {
   "cell_type": "markdown",
   "metadata": {},
   "source": [
    "We can notice that there are 461 living spaces that can accomodate 3 people just like ours (Value 0).\n",
    "This means the 5 \"nearest neighbors\" we select after sorting all will have a distance value of 0. If we sort by the distance column and then just select the first 5 living spaces, we would be biasing the result to the ordering of the dataset.\n",
    "\n",
    "Let's instead randomize the ordering of the dataset and then sort the Dataframe by the distance column. This way, all of the living spaces with the same number of bedrooms will still be at the top of the Dataframe but will be in random order across the first 461 rows."
   ]
  },
  {
   "cell_type": "code",
   "execution_count": 12,
   "metadata": {},
   "outputs": [
    {
     "name": "stdout",
     "output_type": "stream",
     "text": [
      "577     $185.00\n",
      "2166    $180.00\n",
      "3631    $175.00\n",
      "71      $128.00\n",
      "1011    $115.00\n",
      "380     $219.00\n",
      "943     $125.00\n",
      "3107    $250.00\n",
      "1499     $94.00\n",
      "625     $150.00\n",
      "Name: price, dtype: object\n"
     ]
    }
   ],
   "source": [
    "## Randomizing, and sorting ##\n",
    "import numpy as np\n",
    "np.random.seed(1)\n",
    "dc_listings = dc_listings.loc[np.random.permutation(len(dc_listings))]\n",
    "dc_listings = dc_listings.sort_values('distance')\n",
    "print(dc_listings.iloc[0:10]['price'])"
   ]
  },
  {
   "cell_type": "markdown",
   "metadata": {},
   "source": [
    "# Average price\n",
    "\n",
    "Before we can select the 5 most similar living spaces and compute the average price, we need to clean the price column. Right now, the price column contains comma characters (,) and dollar sign characters and is formatted as a text column instead of a numeric one. We need to remove these values and convert the entire column to the float datatype. Then, we can calculate the average price."
   ]
  },
  {
   "cell_type": "code",
   "execution_count": 13,
   "metadata": {},
   "outputs": [
    {
     "name": "stdout",
     "output_type": "stream",
     "text": [
      "156.6\n"
     ]
    }
   ],
   "source": [
    "stripped_commas = dc_listings['price'].str.replace(',', '')\n",
    "stripped_dollars = stripped_commas.str.replace('$', '')\n",
    "dc_listings['price'] = stripped_dollars.astype('float')\n",
    "mean_price = dc_listings.iloc[0:5]['price'].mean()\n",
    "print(mean_price)"
   ]
  },
  {
   "cell_type": "markdown",
   "metadata": {},
   "source": [
    "## Conclusion\n",
    "\n",
    "Based on the average price of other listings that accommdate 3 people, we should charge 156.6 dollars per night for a guest to stay at our living space."
   ]
  },
  {
   "cell_type": "markdown",
   "metadata": {},
   "source": [
    "# Function to make predictions\n",
    "\n",
    "Let's write a more general function that can suggest the optimal price for other values of the accommodates column."
   ]
  },
  {
   "cell_type": "code",
   "execution_count": 16,
   "metadata": {},
   "outputs": [
    {
     "name": "stdout",
     "output_type": "stream",
     "text": [
      "71.8\n",
      "96.8\n",
      "96.0\n"
     ]
    }
   ],
   "source": [
    "dc_listings = dc_listings.loc[np.random.permutation(len(dc_listings))]\n",
    "\n",
    "def predict_price(new_listing):\n",
    "    temp_df = dc_listings.copy()\n",
    "   \n",
    "    return(new_listing)\n",
    "acc_one = predict_price(1)\n",
    "acc_two = predict_price(2)\n",
    "acc_four = predict_price(4)\n",
    "def predict_price(new_listing):\n",
    "    temp_df = dc_listings.copy()\n",
    "    temp_df['distance'] = temp_df['accommodates'].apply(lambda x: np.abs(x - new_listing))\n",
    "    temp_df = temp_df.sort_values('distance')\n",
    "    nearest_neighbors = temp_df.iloc[0:5]['price']\n",
    "    predicted_price = nearest_neighbors.mean()\n",
    "    return(predicted_price)\n",
    "\n",
    "acc_one = predict_price(1)\n",
    "acc_two = predict_price(2)\n",
    "acc_four = predict_price(4)\n",
    "print(acc_one)\n",
    "print(acc_two)\n",
    "print(acc_four)\n"
   ]
  },
  {
   "cell_type": "code",
   "execution_count": null,
   "metadata": {},
   "outputs": [],
   "source": []
  }
 ],
 "metadata": {
  "kernelspec": {
   "display_name": "Python 3",
   "language": "python",
   "name": "python3"
  },
  "language_info": {
   "codemirror_mode": {
    "name": "ipython",
    "version": 3
   },
   "file_extension": ".py",
   "mimetype": "text/x-python",
   "name": "python",
   "nbconvert_exporter": "python",
   "pygments_lexer": "ipython3",
   "version": "3.6.5"
  }
 },
 "nbformat": 4,
 "nbformat_minor": 2
}
